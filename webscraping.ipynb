{
  "nbformat": 4,
  "nbformat_minor": 0,
  "metadata": {
    "colab": {
      "name": "webscraping.ipynb",
      "provenance": [],
      "authorship_tag": "ABX9TyMqPSFRvv7Q/4sVSWU45qsC",
      "include_colab_link": true
    },
    "kernelspec": {
      "name": "python3",
      "display_name": "Python 3"
    },
    "language_info": {
      "name": "python"
    }
  },
  "cells": [
    {
      "cell_type": "markdown",
      "metadata": {
        "id": "view-in-github",
        "colab_type": "text"
      },
      "source": [
        "<a href=\"https://colab.research.google.com/github/bharadwaj-ramavarapu/wed-scraping/blob/main/webscraping.ipynb\" target=\"_parent\"><img src=\"https://colab.research.google.com/assets/colab-badge.svg\" alt=\"Open In Colab\"/></a>"
      ]
    },
    {
      "cell_type": "code",
      "metadata": {
        "id": "48MtHDpdGic0"
      },
      "source": [
        "#installing beautifulsoup\n",
        "!pip install bs4"
      ],
      "execution_count": null,
      "outputs": []
    },
    {
      "cell_type": "code",
      "metadata": {
        "id": "xdaRdfGTIlsP"
      },
      "source": [
        "import requests\n",
        "from bs4 import BeautifulSoup"
      ],
      "execution_count": null,
      "outputs": []
    },
    {
      "cell_type": "code",
      "metadata": {
        "id": "p6jzXTL1JbPu"
      },
      "source": [
        "url=\"https://www.makaan.com/hyderabad-residential-property/buy-property-in-hyderabad-city\""
      ],
      "execution_count": null,
      "outputs": []
    },
    {
      "cell_type": "code",
      "metadata": {
        "colab": {
          "base_uri": "https://localhost:8080/"
        },
        "id": "wBHry0wzKB5O",
        "outputId": "464dff9e-6846-491a-97eb-5f15048dfc95"
      },
      "source": [
        "request=requests.get(url)\n",
        "request"
      ],
      "execution_count": null,
      "outputs": [
        {
          "output_type": "execute_result",
          "data": {
            "text/plain": [
              "<Response [200]>"
            ]
          },
          "metadata": {
            "tags": []
          },
          "execution_count": 9
        }
      ]
    },
    {
      "cell_type": "code",
      "metadata": {
        "id": "vWlUrGLNKR5i"
      },
      "source": [
        "soup = BeautifulSoup (request.content,'html')\n",
        "print(type(soup))"
      ],
      "execution_count": null,
      "outputs": []
    },
    {
      "cell_type": "code",
      "metadata": {
        "id": "stlABrr8K65Q"
      },
      "source": [
        "#print(soup.prettify())"
      ],
      "execution_count": null,
      "outputs": []
    },
    {
      "cell_type": "code",
      "metadata": {
        "colab": {
          "base_uri": "https://localhost:8080/"
        },
        "id": "An-LS1WOLc92",
        "outputId": "327f19a5-1fb9-42a2-8726-e21aca67b7b6"
      },
      "source": [
        "soup.find('span')"
      ],
      "execution_count": null,
      "outputs": [
        {
          "output_type": "execute_result",
          "data": {
            "text/plain": [
              "<span data-target=\"categoryPlaceholder\">buy</span>"
            ]
          },
          "metadata": {
            "tags": []
          },
          "execution_count": 13
        }
      ]
    },
    {
      "cell_type": "code",
      "metadata": {
        "colab": {
          "base_uri": "https://localhost:8080/",
          "height": 35
        },
        "id": "qKCYr4hLM1eK",
        "outputId": "8a5a345d-bdc5-4378-9e19-446e885669d3"
      },
      "source": [
        "soup.find('span',attrs={'class':'seller-type'}).text"
      ],
      "execution_count": null,
      "outputs": [
        {
          "output_type": "execute_result",
          "data": {
            "application/vnd.google.colaboratory.intrinsic+json": {
              "type": "string"
            },
            "text/plain": [
              "'BUILDER'"
            ]
          },
          "metadata": {
            "tags": []
          },
          "execution_count": 14
        }
      ]
    },
    {
      "cell_type": "code",
      "metadata": {
        "colab": {
          "base_uri": "https://localhost:8080/",
          "height": 35
        },
        "id": "UXRoVHK7NyIR",
        "outputId": "5577bc5b-cbcb-4742-809d-e1b71096c44a"
      },
      "source": [
        "soup.find('div',attrs={'data-type':'price-link'}).text"
      ],
      "execution_count": null,
      "outputs": [
        {
          "output_type": "execute_result",
          "data": {
            "application/vnd.google.colaboratory.intrinsic+json": {
              "type": "string"
            },
            "text/plain": [
              "' 1.5 Cr'"
            ]
          },
          "metadata": {
            "tags": []
          },
          "execution_count": 15
        }
      ]
    },
    {
      "cell_type": "code",
      "metadata": {
        "colab": {
          "base_uri": "https://localhost:8080/",
          "height": 35
        },
        "id": "ghqDr6GYObhF",
        "outputId": "a0730613-785f-4538-9321-5f632ffc3e05"
      },
      "source": [
        "soup.find('span',attrs={'itemprop':'addressLocality'}).text"
      ],
      "execution_count": null,
      "outputs": [
        {
          "output_type": "execute_result",
          "data": {
            "application/vnd.google.colaboratory.intrinsic+json": {
              "type": "string"
            },
            "text/plain": [
              "'Bachupally'"
            ]
          },
          "metadata": {
            "tags": []
          },
          "execution_count": 18
        }
      ]
    },
    {
      "cell_type": "code",
      "metadata": {
        "colab": {
          "base_uri": "https://localhost:8080/",
          "height": 35
        },
        "id": "8A_-lYMkPsQ8",
        "outputId": "5b40f367-b243-4391-fbcb-eb5ef531b1cd"
      },
      "source": [
        "soup.find('div',attrs={'class':'title-line'}).span.text"
      ],
      "execution_count": null,
      "outputs": [
        {
          "output_type": "execute_result",
          "data": {
            "application/vnd.google.colaboratory.intrinsic+json": {
              "type": "string"
            },
            "text/plain": [
              "'4 '"
            ]
          },
          "metadata": {
            "tags": []
          },
          "execution_count": 20
        }
      ]
    },
    {
      "cell_type": "code",
      "metadata": {
        "colab": {
          "base_uri": "https://localhost:8080/",
          "height": 35
        },
        "id": "UwxDSvPnQiM8",
        "outputId": "01dd2421-bc19-4fc9-c6d8-90c78d51bddb"
      },
      "source": [
        "soup.find('td',attrs={'class':'size'}).text.strip()"
      ],
      "execution_count": null,
      "outputs": [
        {
          "output_type": "execute_result",
          "data": {
            "application/vnd.google.colaboratory.intrinsic+json": {
              "type": "string"
            },
            "text/plain": [
              "'2300'"
            ]
          },
          "metadata": {
            "tags": []
          },
          "execution_count": 21
        }
      ]
    },
    {
      "cell_type": "code",
      "metadata": {
        "colab": {
          "base_uri": "https://localhost:8080/",
          "height": 35
        },
        "id": "JehsON84RJIU",
        "outputId": "259286f4-e6bc-4bf0-9ec0-3eca08055675"
      },
      "source": [
        "soup.find('td',attrs={'class':'lbl rate'}).text"
      ],
      "execution_count": null,
      "outputs": [
        {
          "output_type": "execute_result",
          "data": {
            "application/vnd.google.colaboratory.intrinsic+json": {
              "type": "string"
            },
            "text/plain": [
              "'6,521 / sq ft'"
            ]
          },
          "metadata": {
            "tags": []
          },
          "execution_count": 24
        }
      ]
    },
    {
      "cell_type": "code",
      "metadata": {
        "colab": {
          "base_uri": "https://localhost:8080/",
          "height": 35
        },
        "id": "t5d1RIr-RVA3",
        "outputId": "da6ddf2e-d05b-49b3-9b3e-4c74422c1406"
      },
      "source": [
        "soup.find('td',attrs={'class':'val'}).text"
      ],
      "execution_count": null,
      "outputs": [
        {
          "output_type": "execute_result",
          "data": {
            "application/vnd.google.colaboratory.intrinsic+json": {
              "type": "string"
            },
            "text/plain": [
              "'Under Construction'"
            ]
          },
          "metadata": {
            "tags": []
          },
          "execution_count": 26
        }
      ]
    },
    {
      "cell_type": "code",
      "metadata": {
        "colab": {
          "base_uri": "https://localhost:8080/",
          "height": 35
        },
        "id": "J5zJjEfRR5Mb",
        "outputId": "ffeffce1-9bea-46a0-db1d-78ba36bfb427"
      },
      "source": [
        "soup.find('li',attrs={'class':'keypoint',\n",
        "                      'title':'Bathrooms'}).text"
      ],
      "execution_count": null,
      "outputs": [
        {
          "output_type": "execute_result",
          "data": {
            "application/vnd.google.colaboratory.intrinsic+json": {
              "type": "string"
            },
            "text/plain": [
              "'3 Bathrooms'"
            ]
          },
          "metadata": {
            "tags": []
          },
          "execution_count": 28
        }
      ]
    },
    {
      "cell_type": "code",
      "metadata": {
        "colab": {
          "base_uri": "https://localhost:8080/"
        },
        "id": "TA2WWVQQRj5_",
        "outputId": "1aa83908-cd3d-4aa6-9016-e655ea801221"
      },
      "source": [
        "sel_lst = soup.find_all('span',attrs={'class':'seller-type'})\n",
        "print(len(sel_lst))\n",
        "#we creating a list which has values of given entrys in web pages"
      ],
      "execution_count": null,
      "outputs": [
        {
          "output_type": "stream",
          "text": [
            "20\n"
          ],
          "name": "stdout"
        }
      ]
    },
    {
      "cell_type": "code",
      "metadata": {
        "colab": {
          "base_uri": "https://localhost:8080/",
          "height": 35
        },
        "id": "9pIs28eATiJg",
        "outputId": "78e10986-9099-48c7-f645-f76ee1097786"
      },
      "source": [
        "'''sel_info = []\n",
        "for i in sel_lst:\n",
        "  sel_info.append(i.text)\n",
        "#sel_info'''"
      ],
      "execution_count": null,
      "outputs": [
        {
          "output_type": "execute_result",
          "data": {
            "application/vnd.google.colaboratory.intrinsic+json": {
              "type": "string"
            },
            "text/plain": [
              "'sel_info = []\\nfor i in sel_lst:\\n  sel_info.append(i.text)\\n#sel_info'"
            ]
          },
          "metadata": {
            "tags": []
          },
          "execution_count": 43
        }
      ]
    },
    {
      "cell_type": "code",
      "metadata": {
        "id": "Mj6vUlsmUBm6"
      },
      "source": [
        "sel_info_c=[i.text for i in sel_lst]\n",
        "#sel_info_c\n",
        "#now we created a empty list and dumped above created list in the this one"
      ],
      "execution_count": null,
      "outputs": []
    },
    {
      "cell_type": "code",
      "metadata": {
        "id": "qXUW-IdWVase"
      },
      "source": [
        "#price evaluation\n",
        "prc_lst = soup.find_all('div',attrs={'data-type':'price-link'})\n",
        "#prc_lst\n",
        "prc_info = [i.text.strip() for i in prc_lst]\n",
        "#prc_info"
      ],
      "execution_count": null,
      "outputs": []
    },
    {
      "cell_type": "code",
      "metadata": {
        "id": "zs_g1eQWVmBQ"
      },
      "source": [
        "#bhk\n",
        "nbhk_lst = soup.find_all('div',attrs={'class':'title-line'})\n",
        "nbhk_info = [i.span.text.strip() for i in nbhk_lst]\n",
        "#nbhk_info"
      ],
      "execution_count": null,
      "outputs": []
    },
    {
      "cell_type": "code",
      "metadata": {
        "id": "uqlNdGzCWHrZ"
      },
      "source": [
        "##location list\n",
        "loc_lst = soup.find_all('span',attrs={'itemprop':'addressLocality'})\n",
        "loc_info = [i.text for i in loc_lst]\n",
        "#loc_info\n"
      ],
      "execution_count": null,
      "outputs": []
    },
    {
      "cell_type": "code",
      "metadata": {
        "id": "FVanqUPNWzwv"
      },
      "source": [
        "#to get the price per sqft\n",
        "prcsqft_lst = soup.find_all('td',attrs={'class':'lbl rate'})\n",
        "prcsqft_info = [i.text for i in prcsqft_lst]\n",
        "#prcsqft_info"
      ],
      "execution_count": null,
      "outputs": []
    },
    {
      "cell_type": "code",
      "metadata": {
        "id": "D_Jxi773XMPK"
      },
      "source": [
        "#to get the area size\n",
        "area_lst = soup.find_all('td',attrs={'class':'size'})\n",
        "area_info = [i.text.strip() for i in area_lst]\n",
        "#area_info"
      ],
      "execution_count": null,
      "outputs": []
    },
    {
      "cell_type": "code",
      "metadata": {
        "id": "PkRChr7SXnYL"
      },
      "source": [
        "#to get the construction status\n",
        "cons_lst = soup.find_all('td',attrs={'class':'val'})\n",
        "cons_info = [i.text for i in cons_lst]\n",
        "#cons_info"
      ],
      "execution_count": null,
      "outputs": []
    },
    {
      "cell_type": "code",
      "metadata": {
        "id": "4nSroF3qX-TQ"
      },
      "source": [
        "bathr = soup.find_all('ul',attrs={\"class\":'listing-details'})\n",
        "nbath_info = []\n",
        "for i in bathr:\n",
        "  if i.find('li',attrs={'class':'keypoint','title':'Bathrooms'})is None:\n",
        "    nbath_info.append(\"Not Mentioned\")\n",
        "  else:\n",
        "    nbath_info.append(i.find('li',attrs={'class':'keypoint','title':'Bathrooms'}).text)\n",
        "#nbath_info"
      ],
      "execution_count": null,
      "outputs": []
    },
    {
      "cell_type": "code",
      "metadata": {
        "colab": {
          "base_uri": "https://localhost:8080/",
          "height": 1000
        },
        "id": "fY2Rpb62ai3d",
        "outputId": "b4079897-cdbc-486d-ea30-cf146b563be2"
      },
      "source": [
        "import pandas as pd\n",
        "data = pd.DataFrame({\n",
        "    \"Seller_Info\":sel_info_c,\n",
        "    \"Price\":prc_info,\n",
        "    \"No_BHK\":nbhk_info,\n",
        "    \"Area\":area_info,\n",
        "    \"Locality\":loc_info,\n",
        "    \"Prc_Sqft\":prcsqft_info,\n",
        "    \"ConstructionStatus\":cons_info,\n",
        "    \"No_Bathrooms\":nbath_info\n",
        "})\n",
        "data\n"
      ],
      "execution_count": null,
      "outputs": [
        {
          "output_type": "execute_result",
          "data": {
            "text/html": [
              "<div>\n",
              "<style scoped>\n",
              "    .dataframe tbody tr th:only-of-type {\n",
              "        vertical-align: middle;\n",
              "    }\n",
              "\n",
              "    .dataframe tbody tr th {\n",
              "        vertical-align: top;\n",
              "    }\n",
              "\n",
              "    .dataframe thead th {\n",
              "        text-align: right;\n",
              "    }\n",
              "</style>\n",
              "<table border=\"1\" class=\"dataframe\">\n",
              "  <thead>\n",
              "    <tr style=\"text-align: right;\">\n",
              "      <th></th>\n",
              "      <th>Seller_Info</th>\n",
              "      <th>Price</th>\n",
              "      <th>No_BHK</th>\n",
              "      <th>Area</th>\n",
              "      <th>Locality</th>\n",
              "      <th>Prc_Sqft</th>\n",
              "      <th>ConstructionStatus</th>\n",
              "      <th>No_Bathrooms</th>\n",
              "    </tr>\n",
              "  </thead>\n",
              "  <tbody>\n",
              "    <tr>\n",
              "      <th>0</th>\n",
              "      <td>BUILDER</td>\n",
              "      <td>1.5 Cr</td>\n",
              "      <td>4</td>\n",
              "      <td>2300</td>\n",
              "      <td>Bachupally</td>\n",
              "      <td>6,521 / sq ft</td>\n",
              "      <td>Under Construction</td>\n",
              "      <td>Not Mentioned</td>\n",
              "    </tr>\n",
              "    <tr>\n",
              "      <th>1</th>\n",
              "      <td>BUILDER</td>\n",
              "      <td>42.88 L</td>\n",
              "      <td>2</td>\n",
              "      <td>1340</td>\n",
              "      <td>Nandikandi</td>\n",
              "      <td>3,200 / sq ft</td>\n",
              "      <td>Under Construction</td>\n",
              "      <td>Not Mentioned</td>\n",
              "    </tr>\n",
              "    <tr>\n",
              "      <th>2</th>\n",
              "      <td>BUILDER</td>\n",
              "      <td>1.83 Cr</td>\n",
              "      <td>4</td>\n",
              "      <td>3059</td>\n",
              "      <td>Upperpally</td>\n",
              "      <td>6,000 / sq ft</td>\n",
              "      <td>Under Construction</td>\n",
              "      <td>Not Mentioned</td>\n",
              "    </tr>\n",
              "    <tr>\n",
              "      <th>3</th>\n",
              "      <td>BUILDER</td>\n",
              "      <td>95.7 L</td>\n",
              "      <td>3</td>\n",
              "      <td>1709</td>\n",
              "      <td>Narsingi</td>\n",
              "      <td>5,600 / sq ft</td>\n",
              "      <td>Ready to move</td>\n",
              "      <td>3 Bathrooms</td>\n",
              "    </tr>\n",
              "    <tr>\n",
              "      <th>4</th>\n",
              "      <td>BUILDER</td>\n",
              "      <td>56.98 L</td>\n",
              "      <td>2</td>\n",
              "      <td>1295</td>\n",
              "      <td>Bachupally</td>\n",
              "      <td>4,400 / sq ft</td>\n",
              "      <td>Under Construction</td>\n",
              "      <td>Not Mentioned</td>\n",
              "    </tr>\n",
              "    <tr>\n",
              "      <th>5</th>\n",
              "      <td>BUILDER</td>\n",
              "      <td>96 L</td>\n",
              "      <td>2</td>\n",
              "      <td>1173</td>\n",
              "      <td>Attapur</td>\n",
              "      <td>8,184 / sq ft</td>\n",
              "      <td>Under Construction</td>\n",
              "      <td>Not Mentioned</td>\n",
              "    </tr>\n",
              "    <tr>\n",
              "      <th>6</th>\n",
              "      <td>BUILDER</td>\n",
              "      <td>93.25 L</td>\n",
              "      <td>3</td>\n",
              "      <td>1636</td>\n",
              "      <td>Manikonda</td>\n",
              "      <td>5,700 / sq ft</td>\n",
              "      <td>Ready to move</td>\n",
              "      <td>Not Mentioned</td>\n",
              "    </tr>\n",
              "    <tr>\n",
              "      <th>7</th>\n",
              "      <td>BUILDER</td>\n",
              "      <td>6.06 Cr</td>\n",
              "      <td>4</td>\n",
              "      <td>3567</td>\n",
              "      <td>Narsingi</td>\n",
              "      <td>17,000 / sq ft</td>\n",
              "      <td>Under Construction</td>\n",
              "      <td>Not Mentioned</td>\n",
              "    </tr>\n",
              "    <tr>\n",
              "      <th>8</th>\n",
              "      <td>BUILDER</td>\n",
              "      <td>1.19 Cr</td>\n",
              "      <td>Residential Plot</td>\n",
              "      <td>3150</td>\n",
              "      <td>Sheriguda</td>\n",
              "      <td>3,778 / sq ft</td>\n",
              "      <td>New</td>\n",
              "      <td>Not Mentioned</td>\n",
              "    </tr>\n",
              "    <tr>\n",
              "      <th>9</th>\n",
              "      <td>BUILDER</td>\n",
              "      <td>54 L</td>\n",
              "      <td>Residential Plot</td>\n",
              "      <td>1800</td>\n",
              "      <td>Kothur</td>\n",
              "      <td>3,000 / sq ft</td>\n",
              "      <td>Resale</td>\n",
              "      <td>Not Mentioned</td>\n",
              "    </tr>\n",
              "    <tr>\n",
              "      <th>10</th>\n",
              "      <td>BUILDER</td>\n",
              "      <td>1.43 Cr</td>\n",
              "      <td>2</td>\n",
              "      <td>1495</td>\n",
              "      <td>Shaikpet</td>\n",
              "      <td>9,565 / sq ft</td>\n",
              "      <td>Ready to move</td>\n",
              "      <td>2 Bathrooms</td>\n",
              "    </tr>\n",
              "    <tr>\n",
              "      <th>11</th>\n",
              "      <td>BUILDER</td>\n",
              "      <td>65.82 L</td>\n",
              "      <td>3</td>\n",
              "      <td>1431</td>\n",
              "      <td>Tellapur</td>\n",
              "      <td>4,600 / sq ft</td>\n",
              "      <td>Under Construction</td>\n",
              "      <td>Not Mentioned</td>\n",
              "    </tr>\n",
              "    <tr>\n",
              "      <th>12</th>\n",
              "      <td>BUILDER</td>\n",
              "      <td>1.18 Cr</td>\n",
              "      <td>3</td>\n",
              "      <td>2200</td>\n",
              "      <td>Sainikpuri</td>\n",
              "      <td>5,400 / sq ft</td>\n",
              "      <td>Under Construction</td>\n",
              "      <td>Not Mentioned</td>\n",
              "    </tr>\n",
              "    <tr>\n",
              "      <th>13</th>\n",
              "      <td>BUILDER</td>\n",
              "      <td>96.22 L</td>\n",
              "      <td>3</td>\n",
              "      <td>1415</td>\n",
              "      <td>Nanakramguda</td>\n",
              "      <td>6,800 / sq ft</td>\n",
              "      <td>Ready to move</td>\n",
              "      <td>Not Mentioned</td>\n",
              "    </tr>\n",
              "    <tr>\n",
              "      <th>14</th>\n",
              "      <td>BUILDER</td>\n",
              "      <td>63.11 L</td>\n",
              "      <td>3</td>\n",
              "      <td>1503</td>\n",
              "      <td>Mallampet</td>\n",
              "      <td>4,199 / sq ft</td>\n",
              "      <td>Under Construction</td>\n",
              "      <td>Not Mentioned</td>\n",
              "    </tr>\n",
              "    <tr>\n",
              "      <th>15</th>\n",
              "      <td>BUILDER</td>\n",
              "      <td>56.02 L</td>\n",
              "      <td>2</td>\n",
              "      <td>1245</td>\n",
              "      <td>Ghatkesar</td>\n",
              "      <td>4,500 / sq ft</td>\n",
              "      <td>Under Construction</td>\n",
              "      <td>Not Mentioned</td>\n",
              "    </tr>\n",
              "    <tr>\n",
              "      <th>16</th>\n",
              "      <td>BUILDER</td>\n",
              "      <td>61.57 L</td>\n",
              "      <td>2</td>\n",
              "      <td>1310</td>\n",
              "      <td>Kompally</td>\n",
              "      <td>4,700 / sq ft</td>\n",
              "      <td>Under Construction</td>\n",
              "      <td>Not Mentioned</td>\n",
              "    </tr>\n",
              "    <tr>\n",
              "      <th>17</th>\n",
              "      <td>BUILDER</td>\n",
              "      <td>42.88 L</td>\n",
              "      <td>2</td>\n",
              "      <td>1340</td>\n",
              "      <td>Nandikandi</td>\n",
              "      <td>3,200 / sq ft</td>\n",
              "      <td>Under Construction</td>\n",
              "      <td>Not Mentioned</td>\n",
              "    </tr>\n",
              "    <tr>\n",
              "      <th>18</th>\n",
              "      <td>BUILDER</td>\n",
              "      <td>1.1 Cr</td>\n",
              "      <td>3</td>\n",
              "      <td>1839</td>\n",
              "      <td>Upperpally</td>\n",
              "      <td>6,000 / sq ft</td>\n",
              "      <td>Under Construction</td>\n",
              "      <td>Not Mentioned</td>\n",
              "    </tr>\n",
              "    <tr>\n",
              "      <th>19</th>\n",
              "      <td>BUILDER</td>\n",
              "      <td>96.04 L</td>\n",
              "      <td>3</td>\n",
              "      <td>1715</td>\n",
              "      <td>Narsingi</td>\n",
              "      <td>5,600 / sq ft</td>\n",
              "      <td>Ready to move</td>\n",
              "      <td>Not Mentioned</td>\n",
              "    </tr>\n",
              "  </tbody>\n",
              "</table>\n",
              "</div>"
            ],
            "text/plain": [
              "   Seller_Info    Price  ...  ConstructionStatus   No_Bathrooms\n",
              "0      BUILDER   1.5 Cr  ...  Under Construction  Not Mentioned\n",
              "1      BUILDER  42.88 L  ...  Under Construction  Not Mentioned\n",
              "2      BUILDER  1.83 Cr  ...  Under Construction  Not Mentioned\n",
              "3      BUILDER   95.7 L  ...       Ready to move    3 Bathrooms\n",
              "4      BUILDER  56.98 L  ...  Under Construction  Not Mentioned\n",
              "5      BUILDER     96 L  ...  Under Construction  Not Mentioned\n",
              "6      BUILDER  93.25 L  ...       Ready to move  Not Mentioned\n",
              "7      BUILDER  6.06 Cr  ...  Under Construction  Not Mentioned\n",
              "8      BUILDER  1.19 Cr  ...                 New  Not Mentioned\n",
              "9      BUILDER     54 L  ...              Resale  Not Mentioned\n",
              "10     BUILDER  1.43 Cr  ...       Ready to move    2 Bathrooms\n",
              "11     BUILDER  65.82 L  ...  Under Construction  Not Mentioned\n",
              "12     BUILDER  1.18 Cr  ...  Under Construction  Not Mentioned\n",
              "13     BUILDER  96.22 L  ...       Ready to move  Not Mentioned\n",
              "14     BUILDER  63.11 L  ...  Under Construction  Not Mentioned\n",
              "15     BUILDER  56.02 L  ...  Under Construction  Not Mentioned\n",
              "16     BUILDER  61.57 L  ...  Under Construction  Not Mentioned\n",
              "17     BUILDER  42.88 L  ...  Under Construction  Not Mentioned\n",
              "18     BUILDER   1.1 Cr  ...  Under Construction  Not Mentioned\n",
              "19     BUILDER  96.04 L  ...       Ready to move  Not Mentioned\n",
              "\n",
              "[20 rows x 8 columns]"
            ]
          },
          "metadata": {
            "tags": []
          },
          "execution_count": 58
        }
      ]
    }
  ]
}